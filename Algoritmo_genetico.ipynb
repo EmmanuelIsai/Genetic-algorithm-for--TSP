{
 "cells": [
  {
   "cell_type": "code",
   "execution_count": null,
   "metadata": {
    "id": "p1VuRy7t2FE5"
   },
   "outputs": [],
   "source": [
    "# Importamos las librerias\n",
    "import random\n",
    "from collections import OrderedDict"
   ]
  },
  {
   "cell_type": "markdown",
   "metadata": {
    "id": "tYyqqSyVZohY"
   },
   "source": [
    "# Generación de la población"
   ]
  },
  {
   "cell_type": "code",
   "execution_count": null,
   "metadata": {
    "id": "7cIhG4zbXo9s"
   },
   "outputs": [],
   "source": [
    "def generar_poblacion(n):\n",
    "  poblacion = []\n",
    "  for i in range(n):\n",
    "    estacionamiento = random.choice([1, 2, 3, 4])\n",
    "    nodos_intermedios = [5, 6, 7, 8, 9, 10, 11, 12, \n",
    "                         13, 14, 15, 16, 17, 18, 19, 20]\n",
    "    random.shuffle(nodos_intermedios)\n",
    "    cromosoma = nodos_intermedios\n",
    "    cromosoma.insert(0, estacionamiento)\n",
    "    cromosoma.insert(len(nodos_intermedios), estacionamiento)\n",
    "    poblacion.append(cromosoma)\n",
    "  return poblacion"
   ]
  },
  {
   "cell_type": "markdown",
   "metadata": {
    "id": "1UNXvN86Z1g3"
   },
   "source": [
    "# Función fitness"
   ]
  },
  {
   "cell_type": "code",
   "execution_count": null,
   "metadata": {
    "id": "pno9ECy-Xtjq"
   },
   "outputs": [],
   "source": [
    "def funcion_fitness(cromosoma, costos):\n",
    "  costo = 0\n",
    "  for i in range(1,18):\n",
    "    origen = cromosoma[i-1]\n",
    "    destino = cromosoma[i]\n",
    "\n",
    "    costo += costos[origen-1][destino-1]\n",
    "  return costo"
   ]
  },
  {
   "cell_type": "markdown",
   "metadata": {
    "id": "2ZMizxq-Ztrz"
   },
   "source": [
    "# Proceso de selección"
   ]
  },
  {
   "cell_type": "code",
   "execution_count": null,
   "metadata": {
    "id": "jI6_BoKQZs5h"
   },
   "outputs": [],
   "source": [
    "def seleccionar_padres(poblacion, costos):\n",
    "    minimo = 1000\n",
    "    maximo = 0\n",
    "\n",
    "    resultados = []\n",
    "    for i in range(len(poblacion)):\n",
    "        cromosoma = poblacion[i]\n",
    "        resultado = funcion_fitness(cromosoma, costos)\n",
    "        resultados.append(resultado)\n",
    "        \n",
    "    minimo = min(resultados)\n",
    "    maximo = max(resultados)\n",
    "\n",
    "    padreA = poblacion[resultados.index(minimo)]\n",
    "    padreB = poblacion[resultados.index(maximo)]\n",
    "\n",
    "    return padreA, padreB"
   ]
  },
  {
   "cell_type": "markdown",
   "metadata": {
    "id": "1NrjM5PkZ5Bg"
   },
   "source": [
    "# Proceso de cruzamiento"
   ]
  },
  {
   "cell_type": "code",
   "execution_count": null,
   "metadata": {
    "id": "XHIuk3X2XuHV"
   },
   "outputs": [],
   "source": [
    "def cruzamiento(padreA, padreB):\n",
    "  particion = random.randint(1,16)\n",
    "\n",
    "  hijo = padreA[0:particion] + padreB[particion:-1]\n",
    "\n",
    "  hijo = list(OrderedDict.fromkeys(hijo))\n",
    "  nodos = [5, 6, 7, 8, 9, 10, 11, 12, 13, 14, 15, 16, 17, 18, 19, 20]\n",
    "  random.shuffle(nodos)\n",
    "\n",
    "  hijo.extend([element for element in nodos if element not in hijo])\n",
    "  hijo.append(padreA[0])\n",
    "\n",
    "  return hijo"
   ]
  },
  {
   "cell_type": "markdown",
   "metadata": {
    "id": "w7NOdbQlabiP"
   },
   "source": [
    "# Proceso de mutación"
   ]
  },
  {
   "cell_type": "code",
   "execution_count": null,
   "metadata": {
    "id": "fsad2KspafKz"
   },
   "outputs": [],
   "source": [
    "def mutacion(cromosoma):\n",
    "  rango_probabilidad = list(range(0, round(100/len(cromosoma))))\n",
    "  num_aleatorio = random.randint(0, 100)\n",
    "  if num_aleatorio in rango_probabilidad:\n",
    "    posicionA = random.randint(1, 16)\n",
    "    posicionB = random.randint(1, 16)\n",
    "    mut1 = cromosoma[posicionA]\n",
    "    mut2 = cromosoma[posicionB]\n",
    "    cromosoma[posicionA] = mut2\n",
    "    cromosoma[posicionB] = mut1\n",
    "    return cromosoma\n",
    "  else:\n",
    "    return cromosoma"
   ]
  },
  {
   "cell_type": "markdown",
   "metadata": {
    "id": "Zv6JylgGN3Cf"
   },
   "source": [
    "# Main"
   ]
  },
  {
   "cell_type": "code",
   "execution_count": null,
   "metadata": {
    "colab": {
     "base_uri": "https://localhost:8080/"
    },
    "id": "7s0tINkaN2Ob",
    "outputId": "d0cc795a-fd3c-4559-ee4c-91fa4fe371de"
   },
   "outputs": [
    {
     "name": "stdout",
     "output_type": "stream",
     "text": [
      "La solucion es\n",
      "[1, 9, 12, 14, 7, 19, 5, 6, 20, 16, 15, 13, 8, 17, 11, 18, 10, 1]\n",
      "El costo es\n",
      "21.434\n"
     ]
    }
   ],
   "source": [
    "## =========== Parametros =========== ##\n",
    "\n",
    "costos = [ # Matriz de costos\n",
    "    [0, 1.402, 1.842, 1.604, 0.609, 1.817, 1.499, 1.927, 0.591, 1.734, 1.689, 0.208, 4.334, 0.871, 2.612, 2.177, 2.255, 1.574, 1.453, 1.625],\n",
    "    [1.409, 0.0, 0.957, 1.565, 0.809, 0.873, 1.46, 1.112, 0.827, 1.174, 0.286, 1.347, 4.634, 1.236, 2.188, 0.961, 0.852, 0.186, 1.414, 0.882],\n",
    "    [1.812, 0.957, 0.0, 1.265, 1.215, 1.751, 1.16, 0.154, 1.233, 0.355, 1.174, 1.75, 3.848, 1.639, 1.4, 0.78, 1.005, 0.916, 1.018, 1.77],\n",
    "    [1.604, 1.562, 1.289, 0.0, 0.994, 2.436, 0.105, 1.323, 1.012, 1.051, 1.849, 1.542, 3.069, 1.624, 1.371, 1.719, 1.944, 1.734, 0.402, 2.258],\n",
    "    [0.609, 0.809, 1.249, 0.994, 0.0, 1.63, 0.889, 1.334, 0.017, 1.141, 1.096, 0.547, 4.063, 0.768, 2.019, 1.584, 1.662, 0.981, 0.843, 1.438],\n",
    "    [1.811, 0.873, 1.751, 2.439, 1.631, 0.0, 2.334, 1.906, 1.649, 1.968, 0.703, 1.665, 5.508, 1.312, 3.041, 1.446, 1.027, 0.847, 2.288, 0.235],\n",
    "    [1.499, 1.457, 1.184, 0.105, 0.889, 2.331, 0.0, 1.218, 0.907, 0.946, 1.744, 1.437, 3.174, 1.519, 1.389, 1.614, 1.839, 1.629, 0.297, 2.153],\n",
    "    [1.921, 1.098, 0.154, 1.331, 1.324, 1.906, 1.254, 0.0, 1.342, 0.314, 1.329, 1.859, 3.825, 1.738, 1.377, 0.935, 1.16, 1.071, 0.977, 1.925], \n",
    "    [0.591, 0.827, 1.267, 1.012, 0.017, 1.648, 0.907, 1.352, 0.0, 1.159, 1.114, 0.529, 4.081, 0.75, 2.037, 1.602, 1.68, 0.999, 0.861, 1.456], \n",
    "    [1.728, 1.174, 0.355, 1.059, 1.131, 1.968, 0.946, 0.314, 1.149, 0.0, 1.391, 1.666, 3.539, 1.555, 1.087, 0.997, 1.222, 1.133, 0.705, 1.987], \n",
    "    [1.621, 0.286, 1.174, 1.852, 1.096, 0.703, 1.747, 1.329, 1.114, 1.391, 0.0, 1.475, 4.921, 1.122, 2.405, 1.138, 0.861, 0.258, 1.701, 0.704], \n",
    "    [0.208, 1.34, 1.78, 1.542, 0.547, 1.664, 1.437, 1.865, 0.529, 1.672, 1.475, 0.0, 4.52, 0.665, 2.55, 2.115, 2.193, 1.512, 1.391, 1.472], \n",
    "    [4.309, 4.609, 3.829, 3.047, 4.041, 5.417, 3.152, 3.788, 4.059, 3.522, 4.896, 4.495, 0.0, 4.671, 3.027, 4.446, 4.671, 4.582, 3.432, 5.317], \n",
    "    [0.844, 1.232, 1.672, 1.644, 0.768, 1.311, 1.539, 1.757, 0.75, 1.564, 1.122, 0.665, 4.713, 0.0, 2.442, 2.007, 1.958, 1.404, 1.493, 1.119], \n",
    "    [2.606, 2.188, 1.4, 1.332, 2.009, 2.982, 1.437, 1.359, 2.027, 1.087, 2.405, 2.544, 3.024, 2.433, 0.0, 1.594, 2.236, 2.147, 1.513, 3.001], \n",
    "    [2.184, 0.961, 0.78, 1.719, 1.584, 1.446, 1.614, 0.935, 1.602, 0.997, 1.138, 2.122, 4.436, 2.011, 1.594, 0.0, 0.7, 0.88, 1.44, 1.562],\n",
    "    [2.262, 0.852, 1.005, 1.944, 1.662, 1.027, 1.839, 1.16, 1.68, 1.222, 0.858, 2.2, 4.688, 1.981, 2.295, 0.7, 0.0, 0.699, 1.665, 1.143], \n",
    "    [1.581, 0.186, 0.916, 1.737, 0.981, 0.847, 1.632, 1.071, 0.999, 1.133, 0.258, 1.519, 4.599, 1.408, 2.147, 0.88, 0.731, 0.0, 1.586, 0.854], \n",
    "    [1.453, 1.411, 1.018, 0.402, 0.843, 2.285, 0.297, 0.977, 0.861, 0.705, 1.698, 1.391, 3.45, 1.473, 1.506, 1.44, 1.665, 1.576, 0.0, 2.107], \n",
    "    [1.619, 0.882, 1.77, 2.258, 1.439, 0.235, 2.153, 1.925, 1.457, 1.987, 0.704, 1.473, 5.327, 1.12, 3.056, 1.562, 1.143, 0.854, 2.107, 0.0]\n",
    "]\n",
    "\n",
    "n = 20 # Ingresa el tamaño de poblacion inicial\n",
    "it = 100 # Ingresa el número de iteraciones sin mejora\n",
    "\n",
    "## ================================== ##\n",
    "\n",
    "\n",
    "poblacion = generar_poblacion(n) # Generamos una población inicial\n",
    "Fo = [0]\n",
    "\n",
    "# Criterio de paro: Numero de ieraciones sin mejora\n",
    "while Fo.count(min(Fo)) != it: \n",
    "\n",
    "  # Seleccionamos dos individuos de nuestra población\n",
    "  padreA, padreB = seleccionar_padres(poblacion, costos)\n",
    "\n",
    "  # Generamos un cromosoma hijo, cruzando a los dos individuos seleccionados\n",
    "  hijo = cruzamiento(padreA, padreB)\n",
    "\n",
    "  # Inicializamos el operador de mutación\n",
    "  hijo = mutacion(hijo)\n",
    "\n",
    "  # Agregamos al hijo a la población\n",
    "  poblacion.append(hijo)\n",
    "\n",
    "  # Evaluamos la funcion fitness de cada uno de nuestros cromosomas\n",
    "  Fo = []\n",
    "  for i in range(len(poblacion)):\n",
    "    fo = funcion_fitness(poblacion[i], costos)\n",
    "    Fo.append(fo)\n",
    "\n",
    "minimo = min(Fo)\n",
    "sol = poblacion[Fo.index(minimo)]\n",
    "print('La solucion es')\n",
    "print(sol)\n",
    "print('El costo es')\n",
    "print(minimo)"
   ]
  }
 ],
 "metadata": {
  "colab": {
   "collapsed_sections": [],
   "provenance": []
  },
  "kernelspec": {
   "display_name": "Python 3 (ipykernel)",
   "language": "python",
   "name": "python3"
  },
  "language_info": {
   "codemirror_mode": {
    "name": "ipython",
    "version": 3
   },
   "file_extension": ".py",
   "mimetype": "text/x-python",
   "name": "python",
   "nbconvert_exporter": "python",
   "pygments_lexer": "ipython3",
   "version": "3.9.7"
  }
 },
 "nbformat": 4,
 "nbformat_minor": 1
}
